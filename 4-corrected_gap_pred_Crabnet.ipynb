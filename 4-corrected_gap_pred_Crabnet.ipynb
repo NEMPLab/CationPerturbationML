{
 "cells": [
  {
   "cell_type": "code",
   "execution_count": 1,
   "metadata": {
    "jupyter": {
     "outputs_hidden": false
    },
    "pycharm": {
     "name": "#%%\n"
    }
   },
   "outputs": [],
   "source": [
    "import os\n",
    "import gc\n",
    "import json\n",
    "import pickle as pk\n",
    "from sklearn.model_selection import StratifiedKFold\n",
    "import numpy as np\n",
    "import pandas as pd\n",
    "\n",
    "import matplotlib.pyplot as plt\n",
    "\n",
    "import torch\n",
    "from torch.cuda import empty_cache\n",
    "\n",
    "from tqdm import tqdm\n",
    "\n",
    "from CrabNet.kingcrab import CrabNet\n",
    "from CrabNet.model import Model\n",
    "from CrabNet.get_compute_device import get_compute_device\n",
    "\n",
    "from sklearn.metrics import mean_absolute_error as mae, \\\n",
    "                            r2_score as r2, \\\n",
    "                            accuracy_score as acc, \\\n",
    "                            matthews_corrcoef as mcc,\\\n",
    "                            mean_squared_error as mse\n",
    "\n",
    "compute_device = get_compute_device()"
   ]
  },
  {
   "cell_type": "code",
   "execution_count": 2,
   "metadata": {
    "jupyter": {
     "outputs_hidden": false
    },
    "pycharm": {
     "name": "#%%\n"
    }
   },
   "outputs": [],
   "source": [
    "from pymatgen.core import Composition\n",
    "\n",
    "# No warnings about setting value on copy of slice\n",
    "pd.options.mode.chained_assignment = None\n",
    "\n",
    "# Display up to 60 columns of a dataframe\n",
    "pd.set_option('display.max_columns', 60)\n",
    "\n",
    "# Matplotlib visualization\n",
    "import matplotlib.pyplot as plt\n",
    "from matplotlib import rcParams\n",
    "%matplotlib inline\n",
    "\n",
    "# Internal ipython tool for setting figure size\n",
    "from IPython.core.pylabtools import figsize\n",
    "\n",
    "# Seaborn for visualization\n",
    "import seaborn as sns\n",
    "\n",
    "# Splitting data into training and testing\n",
    "from sklearn.model_selection import train_test_split\n",
    "import warnings\n",
    "warnings.filterwarnings('ignore')\n",
    "\n",
    "config = {\n",
    "    \"mathtext.fontset\":'stix',\n",
    "    \"font.family\":'serif',\n",
    "    \"font.serif\": ['Times New Roman'],\n",
    "    \"font.size\": 24,\n",
    "    'axes.unicode_minus': False \n",
    "}\n",
    "rcParams.update(config)\n",
    "plt.rcParams['axes.unicode_minus'] = False  \n",
    "large = 22; med = 16; small = 12\n",
    "params = {'axes.titlesize': large,\n",
    "          'legend.fontsize': med,\n",
    "          'figure.figsize': (8, 6),\n",
    "          'axes.labelsize': med,\n",
    "          'axes.titlesize': med,\n",
    "          'xtick.labelsize': med,\n",
    "          'ytick.labelsize': med,\n",
    "          'figure.titlesize': large}\n",
    "plt.rcParams.update(params)\n",
    "plt.rcParams['figure.dpi'] = 300 "
   ]
  },
  {
   "cell_type": "code",
   "execution_count": 3,
   "metadata": {
    "jupyter": {
     "outputs_hidden": false
    },
    "pycharm": {
     "name": "#%%\n"
    }
   },
   "outputs": [
    {
     "data": {
      "text/plain": [
       "0    70216\n",
       "1    64037\n",
       "Name: is_metal, dtype: int64"
      ]
     },
     "execution_count": 3,
     "metadata": {},
     "output_type": "execute_result"
    }
   ],
   "source": [
    "df = pd.read_csv('./data/data.csv', index_col=0)\n",
    "df['is_metal'] = df['target'].map(lambda x: 1 if x==0 else 0)\n",
    "df['is_metal'].value_counts()"
   ]
  },
  {
   "cell_type": "code",
   "execution_count": 5,
   "metadata": {
    "jupyter": {
     "outputs_hidden": false
    },
    "pycharm": {
     "name": "#%%\n"
    }
   },
   "outputs": [],
   "source": [
    "df['index'] = df.index\n",
    "spinels = pd.read_csv('./data/spinel_oxides.csv')\n",
    "spinels = spinels[['formula_pretty','spacegroup_number','band_gap','is_gap_direct']]\n",
    "spinels.columns = ['formula','spacegroup','GGA','is_gap_direct']\n",
    "spinels['index'] = spinels.index\n",
    "spinels = pd.merge(spinels,df , on=['formula','spacegroup'], how='inner')"
   ]
  },
  {
   "cell_type": "code",
   "execution_count": 6,
   "metadata": {
    "jupyter": {
     "outputs_hidden": false
    },
    "pycharm": {
     "name": "#%%\n"
    }
   },
   "outputs": [
    {
     "data": {
      "text/html": [
       "<div>\n",
       "<style scoped>\n",
       "    .dataframe tbody tr th:only-of-type {\n",
       "        vertical-align: middle;\n",
       "    }\n",
       "\n",
       "    .dataframe tbody tr th {\n",
       "        vertical-align: top;\n",
       "    }\n",
       "\n",
       "    .dataframe thead th {\n",
       "        text-align: right;\n",
       "    }\n",
       "</style>\n",
       "<table border=\"1\" class=\"dataframe\">\n",
       "  <thead>\n",
       "    <tr style=\"text-align: right;\">\n",
       "      <th></th>\n",
       "      <th>formula</th>\n",
       "      <th>spacegroup</th>\n",
       "      <th>GGA_x</th>\n",
       "      <th>is_gap_direct</th>\n",
       "      <th>index_x</th>\n",
       "      <th>GGA_y</th>\n",
       "      <th>target</th>\n",
       "      <th>is_metal</th>\n",
       "      <th>index_y</th>\n",
       "    </tr>\n",
       "  </thead>\n",
       "  <tbody>\n",
       "    <tr>\n",
       "      <th>0</th>\n",
       "      <td>NaMn2O4</td>\n",
       "      <td>227</td>\n",
       "      <td>0.0000</td>\n",
       "      <td>False</td>\n",
       "      <td>0</td>\n",
       "      <td>0.0000</td>\n",
       "      <td>0.000000</td>\n",
       "      <td>1</td>\n",
       "      <td>131</td>\n",
       "    </tr>\n",
       "    <tr>\n",
       "      <th>1</th>\n",
       "      <td>Cd(RhO2)2</td>\n",
       "      <td>227</td>\n",
       "      <td>0.8367</td>\n",
       "      <td>False</td>\n",
       "      <td>1</td>\n",
       "      <td>0.8367</td>\n",
       "      <td>2.470591</td>\n",
       "      <td>0</td>\n",
       "      <td>125609</td>\n",
       "    </tr>\n",
       "    <tr>\n",
       "      <th>2</th>\n",
       "      <td>CaIn2O4</td>\n",
       "      <td>227</td>\n",
       "      <td>2.0208</td>\n",
       "      <td>True</td>\n",
       "      <td>2</td>\n",
       "      <td>2.0208</td>\n",
       "      <td>3.393936</td>\n",
       "      <td>0</td>\n",
       "      <td>81767</td>\n",
       "    </tr>\n",
       "    <tr>\n",
       "      <th>3</th>\n",
       "      <td>Si(NiO2)2</td>\n",
       "      <td>227</td>\n",
       "      <td>3.5770</td>\n",
       "      <td>True</td>\n",
       "      <td>3</td>\n",
       "      <td>3.5770</td>\n",
       "      <td>3.577000</td>\n",
       "      <td>0</td>\n",
       "      <td>843</td>\n",
       "    </tr>\n",
       "    <tr>\n",
       "      <th>4</th>\n",
       "      <td>Mg2FeO4</td>\n",
       "      <td>227</td>\n",
       "      <td>0.0000</td>\n",
       "      <td>False</td>\n",
       "      <td>4</td>\n",
       "      <td>0.0000</td>\n",
       "      <td>0.000000</td>\n",
       "      <td>1</td>\n",
       "      <td>363</td>\n",
       "    </tr>\n",
       "    <tr>\n",
       "      <th>...</th>\n",
       "      <td>...</td>\n",
       "      <td>...</td>\n",
       "      <td>...</td>\n",
       "      <td>...</td>\n",
       "      <td>...</td>\n",
       "      <td>...</td>\n",
       "      <td>...</td>\n",
       "      <td>...</td>\n",
       "      <td>...</td>\n",
       "    </tr>\n",
       "    <tr>\n",
       "      <th>165</th>\n",
       "      <td>MgCr2O4</td>\n",
       "      <td>227</td>\n",
       "      <td>2.5264</td>\n",
       "      <td>True</td>\n",
       "      <td>165</td>\n",
       "      <td>2.5264</td>\n",
       "      <td>2.526400</td>\n",
       "      <td>0</td>\n",
       "      <td>27914</td>\n",
       "    </tr>\n",
       "    <tr>\n",
       "      <th>166</th>\n",
       "      <td>Mg(RhO2)2</td>\n",
       "      <td>227</td>\n",
       "      <td>1.1521</td>\n",
       "      <td>False</td>\n",
       "      <td>166</td>\n",
       "      <td>1.1521</td>\n",
       "      <td>3.042557</td>\n",
       "      <td>0</td>\n",
       "      <td>129217</td>\n",
       "    </tr>\n",
       "    <tr>\n",
       "      <th>167</th>\n",
       "      <td>LiV2O4</td>\n",
       "      <td>227</td>\n",
       "      <td>0.0000</td>\n",
       "      <td>False</td>\n",
       "      <td>167</td>\n",
       "      <td>0.0000</td>\n",
       "      <td>0.000000</td>\n",
       "      <td>1</td>\n",
       "      <td>28026</td>\n",
       "    </tr>\n",
       "    <tr>\n",
       "      <th>168</th>\n",
       "      <td>MnAl2O4</td>\n",
       "      <td>227</td>\n",
       "      <td>2.6578</td>\n",
       "      <td>True</td>\n",
       "      <td>168</td>\n",
       "      <td>2.6578</td>\n",
       "      <td>2.657800</td>\n",
       "      <td>0</td>\n",
       "      <td>28051</td>\n",
       "    </tr>\n",
       "    <tr>\n",
       "      <th>169</th>\n",
       "      <td>Cd2SnO4</td>\n",
       "      <td>227</td>\n",
       "      <td>0.2450</td>\n",
       "      <td>False</td>\n",
       "      <td>169</td>\n",
       "      <td>0.2450</td>\n",
       "      <td>1.876825</td>\n",
       "      <td>0</td>\n",
       "      <td>119910</td>\n",
       "    </tr>\n",
       "  </tbody>\n",
       "</table>\n",
       "<p>170 rows × 9 columns</p>\n",
       "</div>"
      ],
      "text/plain": [
       "       formula  spacegroup   GGA_x  is_gap_direct  index_x   GGA_y    target  \\\n",
       "0      NaMn2O4         227  0.0000          False        0  0.0000  0.000000   \n",
       "1    Cd(RhO2)2         227  0.8367          False        1  0.8367  2.470591   \n",
       "2      CaIn2O4         227  2.0208           True        2  2.0208  3.393936   \n",
       "3    Si(NiO2)2         227  3.5770           True        3  3.5770  3.577000   \n",
       "4      Mg2FeO4         227  0.0000          False        4  0.0000  0.000000   \n",
       "..         ...         ...     ...            ...      ...     ...       ...   \n",
       "165    MgCr2O4         227  2.5264           True      165  2.5264  2.526400   \n",
       "166  Mg(RhO2)2         227  1.1521          False      166  1.1521  3.042557   \n",
       "167     LiV2O4         227  0.0000          False      167  0.0000  0.000000   \n",
       "168    MnAl2O4         227  2.6578           True      168  2.6578  2.657800   \n",
       "169    Cd2SnO4         227  0.2450          False      169  0.2450  1.876825   \n",
       "\n",
       "     is_metal  index_y  \n",
       "0           1      131  \n",
       "1           0   125609  \n",
       "2           0    81767  \n",
       "3           0      843  \n",
       "4           1      363  \n",
       "..        ...      ...  \n",
       "165         0    27914  \n",
       "166         0   129217  \n",
       "167         1    28026  \n",
       "168         0    28051  \n",
       "169         0   119910  \n",
       "\n",
       "[170 rows x 9 columns]"
      ]
     },
     "execution_count": 6,
     "metadata": {},
     "output_type": "execute_result"
    }
   ],
   "source": [
    "spinels"
   ]
  },
  {
   "cell_type": "code",
   "execution_count": 7,
   "metadata": {
    "jupyter": {
     "outputs_hidden": false
    },
    "pycharm": {
     "name": "#%%\n"
    }
   },
   "outputs": [],
   "source": [
    "df = df.drop(index=spinels['index_y'])\n",
    "df = df.reset_index(drop=True)\n",
    "spinels = spinels[['formula','spacegroup','GGA_x','target','is_gap_direct']]\n",
    "spinels.columns = ['formula','spacegroup','GGA','target','is_gap_direct']\n",
    "df = df.dropna()"
   ]
  },
  {
   "cell_type": "code",
   "execution_count": 8,
   "metadata": {
    "jupyter": {
     "outputs_hidden": false
    },
    "pycharm": {
     "name": "#%%\n"
    }
   },
   "outputs": [
    {
     "name": "stdout",
     "output_type": "stream",
     "text": [
      "\n",
      "Model architecture: out_dims, d_model, N, heads\n",
      "3, 512, 3, 4\n",
      "Running on compute device: cpu\n",
      "Model size: 11987206 parameters\n",
      "\n",
      "fold_0\n",
      "MAE: 0.4126126438429607\n",
      "R2: 0.8241776048425564\n",
      "RMSE: 0.8586749702318922\n",
      "\n",
      "Model architecture: out_dims, d_model, N, heads\n",
      "3, 512, 3, 4\n",
      "Running on compute device: cpu\n",
      "Model size: 11987206 parameters\n",
      "\n",
      "fold_1\n",
      "MAE: 0.42862498740804744\n",
      "R2: 0.8071591509638449\n",
      "RMSE: 0.8966244246326645\n",
      "\n",
      "Model architecture: out_dims, d_model, N, heads\n",
      "3, 512, 3, 4\n",
      "Running on compute device: cpu\n",
      "Model size: 11987206 parameters\n",
      "\n",
      "fold_2\n",
      "MAE: 0.4193648131241682\n",
      "R2: 0.8167527892763724\n",
      "RMSE: 0.8735316257430533\n",
      "\n",
      "Model architecture: out_dims, d_model, N, heads\n",
      "3, 512, 3, 4\n",
      "Running on compute device: cpu\n",
      "Model size: 11987206 parameters\n",
      "\n",
      "fold_3\n",
      "MAE: 0.41856611799815974\n",
      "R2: 0.81295185167292\n",
      "RMSE: 0.8831267708067826\n",
      "\n",
      "Model architecture: out_dims, d_model, N, heads\n",
      "3, 512, 3, 4\n",
      "Running on compute device: cpu\n",
      "Model size: 11987206 parameters\n",
      "\n",
      "fold_4\n",
      "MAE: 0.41782671587428205\n",
      "R2: 0.8165702355300927\n",
      "RMSE: 0.873059200019319\n"
     ]
    }
   ],
   "source": [
    "kf = StratifiedKFold(n_splits=5, shuffle=True, random_state=42)\n",
    "\n",
    "cv_indices = kf.split(df[\"formula\"], df[\"is_metal\"])\n",
    "for i, (train_index, val_index) in enumerate(cv_indices):\n",
    "    train, val = df.loc[train_index], df.loc[val_index]\n",
    "    name = f\"fold_{i}\"\n",
    "    model = Model(CrabNet(compute_device=compute_device).to(compute_device),\n",
    "                      model_name=name, verbose=True, classification=False)\n",
    "    if os.path.exists(f'./result/predictions_crabnet/{name}.csv'):\n",
    "        res_df = pd.read_csv(f'./result/predictions_crabnet/{name}.csv')\n",
    "        print(name)\n",
    "        print(f\"MAE: {mae(res_df['real'], res_df['pred'])}\")\n",
    "        print(f\"R2: {r2(res_df['real'], res_df['pred'])}\")\n",
    "        print(f\"RMSE: {np.sqrt(mse(res_df['real'], res_df['pred']))}\")\n",
    "    else:\n",
    "        model.load_data(train, train=True)\n",
    "        model.load_data(val)\n",
    "        model.fit(epochs=1000, losscurve=True)\n",
    "        res = model.best_results\n",
    "        res_df = pd.DataFrame({\"composition\": res[2], \"real\": res[0], \"pred\": res[1], 'uncert':res[3]})\n",
    "        print(name)\n",
    "        print(f\"MAE: {mae(res_df['real'], res_df['pred'])}\")\n",
    "        print(f\"R2: {r2(res_df['real'], res_df['pred'])}\")\n",
    "        print(f\"RMSE: {np.sqrt(mse(res_df['real'], res_df['pred']))}\")\n",
    "        res_df.to_csv(f'./result/predictions_crabnet/{name}.csv',index=False)\n",
    "        model.save_network(f'{name}.pth')\n"
   ]
  },
  {
   "cell_type": "code",
   "execution_count": 9,
   "metadata": {
    "pycharm": {
     "name": "#%%\n"
    }
   },
   "outputs": [
    {
     "name": "stderr",
     "output_type": "stream",
     "text": [
      "Generating EDM: 100%|██████████| 170/170 [00:00<00:00, 127190.81formulae/s]\n",
      "Generating EDM: 100%|██████████| 170/170 [00:00<00:00, 165705.71formulae/s]"
     ]
    },
    {
     "name": "stdout",
     "output_type": "stream",
     "text": [
      "\n",
      "Model architecture: out_dims, d_model, N, heads\n",
      "3, 512, 3, 4\n",
      "Running on compute device: cpu\n",
      "Model size: 11987206 parameters\n",
      "\n",
      "loading data with up to 3 elements in the formula\n",
      "MAE: 0.564052439189444\n",
      "R2: 0.7807171469364772\n",
      "RMSE: 0.8504892892458225\n",
      "loading data with up to 3 elements in the formula\n",
      "MAE: 0.5856050815038311\n",
      "R2: 0.7636907644533003\n",
      "RMSE: 0.8828905323591087\n"
     ]
    },
    {
     "name": "stderr",
     "output_type": "stream",
     "text": [
      "\n",
      "Generating EDM: 100%|██████████| 170/170 [00:00<00:00, 160231.84formulae/s]\n",
      "Generating EDM: 100%|██████████| 170/170 [00:00<00:00, 169406.43formulae/s]\n",
      "Generating EDM: 100%|██████████| 170/170 [00:00<00:00, 167103.75formulae/s]"
     ]
    },
    {
     "name": "stdout",
     "output_type": "stream",
     "text": [
      "loading data with up to 3 elements in the formula\n",
      "MAE: 0.5617075552447054\n",
      "R2: 0.7658923215376782\n",
      "RMSE: 0.8787682172150804\n",
      "loading data with up to 3 elements in the formula\n",
      "MAE: 0.5483919032385578\n",
      "R2: 0.7920445759023055\n",
      "RMSE: 0.8282312986342855\n",
      "loading data with up to 3 elements in the formula\n",
      "MAE: 0.5760956065473657\n",
      "R2: 0.77201327588029\n",
      "RMSE: 0.8672040376647384\n"
     ]
    },
    {
     "name": "stderr",
     "output_type": "stream",
     "text": [
      "\n"
     ]
    }
   ],
   "source": [
    "model = Model(CrabNet(compute_device=compute_device).to(compute_device),\n",
    "                      verbose=True, classification=False)\n",
    "best_mae = 1\n",
    "best_fold = 0\n",
    "for i in range(0,5):\n",
    "    model.load_network(f'./models/trained_models/fold_{i}.pth')\n",
    "    real = spinels['target']\n",
    "    model.load_data(spinels)\n",
    "    pred  = model.predict(model.data_loader)[1]\n",
    "    print(f\"MAE: {mae(real, pred)}\")\n",
    "    print(f\"R2: {r2(real, pred)}\")\n",
    "    print(f\"RMSE: {np.sqrt(mse(real, pred))}\")\n",
    "    tmp_mae = mae(real, pred)\n",
    "    if tmp_mae < best_mae:\n",
    "        best_mae = tmp_mae\n",
    "        best_fold = i"
   ]
  },
  {
   "cell_type": "code",
   "execution_count": null,
   "metadata": {
    "pycharm": {
     "name": "#%%\n"
    }
   },
   "outputs": [],
   "source": []
  }
 ],
 "metadata": {
  "kernelspec": {
   "display_name": "Python 3",
   "language": "python",
   "name": "python3"
  },
  "language_info": {
   "codemirror_mode": {
    "name": "ipython",
    "version": 3
   },
   "file_extension": ".py",
   "mimetype": "text/x-python",
   "name": "python",
   "nbconvert_exporter": "python",
   "pygments_lexer": "ipython3",
   "version": "3.8.8"
  }
 },
 "nbformat": 4,
 "nbformat_minor": 4
}
